{
    "cells": [
        {
            "cell_type": "markdown",
            "metadata": {
                "collapsed": true
            },
            "source": "# Introduction/Business Problem"
        },
        {
            "cell_type": "markdown",
            "metadata": {},
            "source": "The idea of this study is to help people planning to open a new restaurant in Toronto to chose the right location by providing data about the income and population of each neighborhood as well as the competitors already present on the same regions."
        },
        {
            "cell_type": "markdown",
            "metadata": {},
            "source": "# Downloading and Preparing/Cleansing Data"
        },
        {
            "cell_type": "markdown",
            "metadata": {},
            "source": "To provide the stakeholders the necessary information, I'll combine Toronto's 2016 Census with Toronto's Neighborhoods shapefile and Foursquare API to collect information regarding the competitors in the same neighborhoods.\n\nToronto's Census data is available at this website: https://www.toronto.ca/city-government/data-research-maps/open-data/open-data-catalogue/#8c732154-5012-9afe-d0cd-ba3ffc813d5a\n\nToronto Neighborhoods' shapefile is available at this website: https://www.toronto.ca/city-government/data-research-maps/open-data/open-data-catalogue/#a45bd45a-ede8-730e-1abc-93105b2c439f"
        },
        {
            "cell_type": "markdown",
            "metadata": {},
            "source": "# Methodology"
        },
        {
            "cell_type": "markdown",
            "metadata": {},
            "source": "For this report, I utilized various maps to help a new investor to decide the best neighborhood to open a restaurant in Toronto based on it's income, population and available competitors. In order to do so, I've used the 2016 Census information combined with choropleth maps to visually display the wealthier and populated neighborhoods and Foursquare data to display the current restaurants in each region."
        },
        {
            "cell_type": "markdown",
            "metadata": {},
            "source": "# Results"
        },
        {
            "cell_type": "markdown",
            "metadata": {},
            "source": "Comparing the maps we can identify that the majority of the restaurants are grouped along the main streets of south Toronto, although some of the welthiest neighborhoods are up to the north of Toronto. Also, the areas with a dense population don't reflect on the number of restaurants."
        },
        {
            "cell_type": "markdown",
            "metadata": {},
            "source": "# Discussion"
        },
        {
            "cell_type": "markdown",
            "metadata": {},
            "source": "Initially throughout the course of this study, I was expecting to find clusters of restaurants in certain regions, particularly in northern Toronto, however the final results went against my expectations and proved to show that the majority of restaurants were grouped along the southern part of Toronto. \n\n"
        },
        {
            "cell_type": "markdown",
            "metadata": {},
            "source": "# Conclusion"
        },
        {
            "cell_type": "markdown",
            "metadata": {},
            "source": "This report can be useful for someone planning on opening a restaurant in Toronto, by comparing the current offers and neighborhoods profiles. At the same time, however, the report may not cover all variables that can be useful in making such a decision such as access to public transportation. Therefore, one can say that the report is effective in helping stockbrockers decide where to open a restaurant, but should not be used as a single tool for making such a decision.\n\n"
        },
        {
            "cell_type": "code",
            "execution_count": null,
            "metadata": {},
            "outputs": [],
            "source": ""
        }
    ],
    "metadata": {
        "kernelspec": {
            "display_name": "Python 3.6",
            "language": "python",
            "name": "python3"
        },
        "language_info": {
            "codemirror_mode": {
                "name": "ipython",
                "version": 3
            },
            "file_extension": ".py",
            "mimetype": "text/x-python",
            "name": "python",
            "nbconvert_exporter": "python",
            "pygments_lexer": "ipython3",
            "version": "3.6.9"
        }
    },
    "nbformat": 4,
    "nbformat_minor": 1
}